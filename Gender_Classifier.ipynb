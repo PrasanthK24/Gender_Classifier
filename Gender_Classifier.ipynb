{
  "nbformat": 4,
  "nbformat_minor": 0,
  "metadata": {
    "colab": {
      "name": "Gender_Classifier.ipynb",
      "version": "0.3.2",
      "provenance": [],
      "include_colab_link": true
    },
    "kernelspec": {
      "name": "python3",
      "display_name": "Python 3"
    }
  },
  "cells": [
    {
      "cell_type": "markdown",
      "metadata": {
        "id": "view-in-github",
        "colab_type": "text"
      },
      "source": [
        "[View in Colaboratory](https://colab.research.google.com/github/PrasanthK24/Gender_Classifier/blob/master/Gender_Classifier.ipynb)"
      ]
    },
    {
      "metadata": {
        "id": "t_0eU96wEvai",
        "colab_type": "code",
        "colab": {
          "base_uri": "https://localhost:8080/",
          "height": 34
        },
        "outputId": "9871ffc6-71a8-4b7c-c6d2-1af998c9b5fe"
      },
      "cell_type": "code",
      "source": [
        "from sklearn import tree\n",
        "\n",
        "#[height, weight, shoe size]\n",
        "X = [[181,80,44], [177,70,43], [160,60,38], [154,54,37], [166,65,40], [190,90,47], \n",
        "     [175,64,39], [177,70,40], [159,55,37], [171,75,42], [181,85,43]]\n",
        "\n",
        "Y = ['male', 'female', 'female', 'female', 'male', 'male', 'male', 'female', 'male',\n",
        "     'female', 'male']\n",
        "\n",
        "clf = tree.DecisionTreeClassifier()\n",
        "clf = clf.fit(X,Y)\n",
        "\n",
        "prediction = clf.predict([[190,70,43]])\n",
        "print (prediction)"
      ],
      "execution_count": 4,
      "outputs": [
        {
          "output_type": "stream",
          "text": [
            "['male']\n"
          ],
          "name": "stdout"
        }
      ]
    },
    {
      "metadata": {
        "id": "UOQ1PQCxiqA7",
        "colab_type": "code",
        "colab": {
          "base_uri": "https://localhost:8080/",
          "height": 34
        },
        "outputId": "f478dd6d-d776-484f-fe88-9ea45e0dcf2c"
      },
      "cell_type": "code",
      "source": [
        "from sklearn.neighbors import KNeighborsClassifier\n",
        "#[height, weight, shoe size]\n",
        "X = [[181,80,44], [177,70,43], [160,60,38], [154,54,37], [166,65,40], [190,90,47], \n",
        "     [175,64,39], [177,70,40], [159,55,37], [171,75,42], [181,85,43]]\n",
        "\n",
        "Y = ['male', 'female', 'female', 'female', 'male', 'male', 'male', 'female', 'male',\n",
        "     'female', 'male']\n",
        "\n",
        "neigh_clf = KNeighborsClassifier(n_neighbors=3)\n",
        "neigh_clf = neigh_clf.fit(X,Y)\n",
        "\n",
        "prediction = neigh_clf.predict([[190,70,43]])\n",
        "print (prediction)"
      ],
      "execution_count": 5,
      "outputs": [
        {
          "output_type": "stream",
          "text": [
            "['female']\n"
          ],
          "name": "stdout"
        }
      ]
    },
    {
      "metadata": {
        "id": "fWW4ZHv036ur",
        "colab_type": "code",
        "colab": {
          "base_uri": "https://localhost:8080/",
          "height": 34
        },
        "outputId": "3212f2ed-0f59-4d13-b581-3b6251bf3e7f"
      },
      "cell_type": "code",
      "source": [
        "from sklearn.discriminant_analysis import QuadraticDiscriminantAnalysis\n",
        "#[height, weight, shoe size]\n",
        "X = [[181,80,44], [177,70,43], [160,60,38], [154,54,37], [166,65,40], [190,90,47], \n",
        "     [175,64,39], [177,70,40], [159,55,37], [171,75,42], [181,85,43]]\n",
        "\n",
        "Y = ['male', 'female', 'female', 'female', 'male', 'male', 'male', 'female', 'male',\n",
        "     'female', 'male']\n",
        "\n",
        "clf = QuadraticDiscriminantAnalysis(priors=None, reg_param=0.0, store_covariance=False,\n",
        "      store_covariances=None, tol=0.0001)\n",
        "clf = clf.fit(X,Y)\n",
        "\n",
        "prediction = clf.predict([[190,70,43]])\n",
        "print (prediction)"
      ],
      "execution_count": 6,
      "outputs": [
        {
          "output_type": "stream",
          "text": [
            "['female']\n"
          ],
          "name": "stdout"
        }
      ]
    }
  ]
}